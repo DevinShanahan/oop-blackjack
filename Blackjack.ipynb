{
 "cells": [
  {
   "cell_type": "code",
   "execution_count": 3,
   "metadata": {
    "collapsed": false
   },
   "outputs": [],
   "source": [
    "import random, math\n",
    "from IPython.display import clear_output"
   ]
  },
  {
   "cell_type": "code",
   "execution_count": 4,
   "metadata": {
    "collapsed": false
   },
   "outputs": [],
   "source": [
    "class Card(object):\n",
    "\n",
    "    def __init__(self,value,suit):\n",
    "        self.value = value\n",
    "        self.suit = suit\n",
    "\n",
    "    def show(self):\n",
    "        return ('{}{}'.format(self.value,self.suit))\n",
    "\n",
    "    def val(self):\n",
    "        if self.value == 'A':\n",
    "            return 11\n",
    "        elif self.value in ['K','Q','J','T']:\n",
    "            return 10\n",
    "        else:\n",
    "            return int(self.value)"
   ]
  },
  {
   "cell_type": "code",
   "execution_count": 5,
   "metadata": {
    "collapsed": false
   },
   "outputs": [],
   "source": [
    "class Deck(object):\n",
    "\n",
    "    def __init__(self):\n",
    "        self.cards = []\n",
    "        self.build()\n",
    "\n",
    "    def build(self):\n",
    "        for v in ['A','2','3','4','5','6','7','8','9','T','J','Q','K']:\n",
    "            for s in ['s', 'h', 'c', 'd']:\n",
    "                self.cards.append(Card(v,s))\n",
    "\n",
    "    def show(self):\n",
    "        for c in self.cards:\n",
    "            c.show()\n",
    "            \n",
    "    def shuffle(self):\n",
    "        for s in range(7):\n",
    "            for i in range(len(self.cards)-1,0,-1):\n",
    "                r = random.randint(0,i)\n",
    "                self.cards[i], self.cards[r] = self.cards[r], self.cards[i]"
   ]
  },
  {
   "cell_type": "code",
   "execution_count": 6,
   "metadata": {
    "collapsed": false
   },
   "outputs": [],
   "source": [
    "class Player(object):\n",
    "    \n",
    "    def __init__(self, name, bankroll = 100, bet_size = 5):\n",
    "        self.name = name\n",
    "        self.bankroll = bankroll\n",
    "        self.bet_size = bet_size\n",
    "        \n",
    "    def reset_bankroll(self):\n",
    "        self.bankroll = 100\n",
    "        \n",
    "    def change_bet(self, bet):\n",
    "        self.bet_size = bet\n",
    "        \n",
    "    def win_lose(self, win = True):\n",
    "        if win:\n",
    "            self.bankroll += self.betsize\n",
    "        else:\n",
    "            self.bankroll -= self.betsize\n",
    "    \n",
    "    def broke(self):\n",
    "        return self.bankroll <= 0"
   ]
  },
  {
   "cell_type": "code",
   "execution_count": 7,
   "metadata": {
    "collapsed": false
   },
   "outputs": [],
   "source": [
    "def game_start(name):\n",
    "    print(\"Dealer: Your current bankroll is ${}\".format(name.bankroll))\n",
    "    bet = input(\"Dealer: Your current bet is ${}, press Enter to continue or 'b' to change bet \".format(name.bet_size)).lower()\n",
    "    if bet != '' and bet[0] == 'b':\n",
    "        while True:\n",
    "            try:\n",
    "                change_bet = int(input(\"Dealer: How much would you like to bet? \"))\n",
    "            \n",
    "                if change_bet <= name.bankroll:\n",
    "                    name.change_bet(change_bet)\n",
    "                    print(\"Dealer: Your new bet is ${} \".format(name.bet_size))\n",
    "                    break\n",
    "                else:\n",
    "                    print(\"Dealer: Insufficient Funds.  Choose ${} or less\".format(name.bankroll))\n",
    "                    continue\n",
    "            except:\n",
    "                print(\"Dealer: Please enter an integer value only\")\n",
    "    name.bankroll -= name.bet_size\n",
    "    clear_output()"
   ]
  },
  {
   "cell_type": "code",
   "execution_count": 8,
   "metadata": {
    "collapsed": true
   },
   "outputs": [],
   "source": [
    "def insurance():\n",
    "    pass\n",
    "#     dealer_hand = deck.cards[1].val() + deck.cards[3].val()\n",
    "#     if deck.cards[1].value == 'A':\n",
    "#         ans = input(\"Insurance? Y/N: \").lower()\n",
    "#         if ans[0] == 'y' and dealer_hand == 21:\n",
    "#             print(\"Dealer: Blackjack your insurance pays {}\".format())"
   ]
  },
  {
   "cell_type": "code",
   "execution_count": 9,
   "metadata": {
    "collapsed": false
   },
   "outputs": [],
   "source": [
    "def hit_stand(name,deck):\n",
    "    \n",
    "    player_hand = []\n",
    "    player_cards = []\n",
    "    dealer_hand = []\n",
    "    player_val = 0\n",
    "    dealer_val = 0\n",
    "    bust = False\n",
    "    for i in range(4):\n",
    "        if i % 2 == 0:\n",
    "            player_hand.append(deck.cards[0].show())\n",
    "            player_cards.append(deck.cards[0])\n",
    "            player_val += deck.cards[0].val()\n",
    "            deck.cards.pop(0)\n",
    "        else:\n",
    "            dealer_hand.append(deck.cards[0].show())\n",
    "            dealer_val += deck.cards[0].val()\n",
    "            deck.cards.pop(0)\n",
    "\n",
    "    while True:\n",
    "        print(\"Dealer:\\nYour Cards: {0}     |     Dealer Showing: {1}X\".format(\" \".join(player_hand), dealer_hand[0]))\n",
    "        if player_val == 21:\n",
    "            break\n",
    "        elif player_val > 21:\n",
    "            player_val = 0\n",
    "            player_val2 = 0\n",
    "            for card in player_cards:\n",
    "                if card.show()[0] == 'A':\n",
    "                    player_val += 1\n",
    "                    player_val2 += 11\n",
    "                    if player_val2 <= 21:\n",
    "                        player_val = player_val2\n",
    "                else:\n",
    "                    player_val += card.val()\n",
    "            if player_val > 21:\n",
    "                print(\"Dealer: Player Busts\")\n",
    "                bust = True\n",
    "                break\n",
    "                \n",
    "        else:\n",
    "            action = input(\"Dealer: You have {} would you like to hit or stand? H/S \".format(player_val)).lower()\n",
    "            if action[0] == 'h':\n",
    "                player_hand.append(deck.cards[0].show())\n",
    "                player_val += deck.cards[0].val()\n",
    "                player_cards.append(deck.cards[0])\n",
    "                deck.cards.pop(0)\n",
    "                clear_output()\n",
    "                continue\n",
    "            else: \n",
    "                clear_output()\n",
    "                break\n",
    "    while True:\n",
    "        print(\"Dealer:\\nYour Cards: {0}     |     Dealer Showing: {1}\".format(\" \".join(player_hand), \" \".join(dealer_hand)))\n",
    "        if dealer_val < 17 or (dealer_val == 17 and (dealer_hand[0][0] == 'A' or dealer_hand[1][0] == 'A')):\n",
    "            dealer_hand.append(deck.cards[0].show())\n",
    "            dealer_val += deck.cards[0].val()\n",
    "            deck.cards.pop(0)\n",
    "            clear_output\n",
    "            continue\n",
    "        else:\n",
    "            break\n",
    "    if bust == False:        \n",
    "        if player_val == 21 and len(player_hand) == 2:\n",
    "                name.bankroll += 3*name.bet_size\n",
    "                print(\"Dealer: Blackjack! You Win!\")\n",
    "        elif dealer_val > 21:\n",
    "            print(\"Dealer: Dealer Busts\")\n",
    "            name.bankroll += 2*name.bet_size\n",
    "        elif dealer_val == player_val:\n",
    "            print(\"Dealer: Push\")\n",
    "            name.bankroll += name.bet_size\n",
    "        elif dealer_val < player_val:\n",
    "                print(\"Dealer: You Win\")\n",
    "                name.bankroll += 2*name.bet_size\n",
    "        else:\n",
    "            print(\"Dealer: Sorry Dealer Wins\")"
   ]
  },
  {
   "cell_type": "code",
   "execution_count": 10,
   "metadata": {
    "collapsed": true
   },
   "outputs": [],
   "source": [
    "def blackjack():\n",
    "    name = input('What is your name? ')\n",
    "    name = Player(name)\n",
    "    print(\"Dealer: Hello {} Welcome to Blackjack\".format(name.name))\n",
    "    \n",
    "    while True:\n",
    "        deck = Deck()\n",
    "        deck.shuffle()\n",
    "        if name.broke():\n",
    "            reload = input(\"Insufficient Funds: Would you like to reload? Y/N \").lower()\n",
    "            if reload == 'y':\n",
    "                name.bankroll = 100\n",
    "                name.bet_size = 5\n",
    "            else:\n",
    "                print(\"Come back soon!\")\n",
    "                break\n",
    "        game_start(name)\n",
    "        hit_stand(name,deck)\n",
    "        replay = input(\"Dealer: Play Again?: Press Enter to continue or 'q' to quit \").lower()\n",
    "        if len(replay) == 0:\n",
    "            clear_output()\n",
    "            continue\n",
    "        else:\n",
    "            if replay[0] == 'q':\n",
    "                print('Dealer: Cash out for ${}'.format(name.bankroll))\n",
    "                break\n",
    "            else:\n",
    "                clear_output()\n",
    "                continue"
   ]
  },
  {
   "cell_type": "code",
   "execution_count": 11,
   "metadata": {
    "collapsed": false
   },
   "outputs": [
    {
     "name": "stdout",
     "output_type": "stream",
     "text": [
      "Dealer:\n",
      "Your Cards: 7s Jh     |     Dealer Showing: 4h 6c\n",
      "Dealer:\n",
      "Your Cards: 7s Jh     |     Dealer Showing: 4h 6c 9d\n",
      "Dealer: Sorry Dealer Wins\n",
      "Dealer: Play Again?: Press Enter to continue or 'q' to quit q\n",
      "Dealer: Cash out for $100\n"
     ]
    }
   ],
   "source": [
    "blackjack()"
   ]
  },
  {
   "cell_type": "code",
   "execution_count": null,
   "metadata": {
    "collapsed": true
   },
   "outputs": [],
   "source": []
  }
 ],
 "metadata": {
  "kernelspec": {
   "display_name": "Python 3",
   "language": "python",
   "name": "python3"
  },
  "language_info": {
   "codemirror_mode": {
    "name": "ipython",
    "version": 3
   },
   "file_extension": ".py",
   "mimetype": "text/x-python",
   "name": "python",
   "nbconvert_exporter": "python",
   "pygments_lexer": "ipython3",
   "version": "3.5.3"
  }
 },
 "nbformat": 4,
 "nbformat_minor": 0
}
